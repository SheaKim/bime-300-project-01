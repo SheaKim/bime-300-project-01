{
 "cells": [
  {
   "cell_type": "code",
   "execution_count": 86,
   "metadata": {},
   "outputs": [],
   "source": [
    "# imports\n",
    "import re\n",
    "import os"
   ]
  },
  {
   "cell_type": "code",
   "execution_count": 87,
   "metadata": {},
   "outputs": [
    {
     "name": "stdout",
     "output_type": "stream",
     "text": [
      "['NOTEEVENTS-13005.txt', 'NOTEEVENTS-13007.txt', 'NOTEEVENTS-13010.txt', 'NOTEEVENTS-13011.txt', 'NOTEEVENTS-13019.txt', 'NOTEEVENTS-13026.txt', 'NOTEEVENTS-13029.txt', 'NOTEEVENTS-13033.txt', 'NOTEEVENTS-13035.txt', 'NOTEEVENTS-13036.txt', 'NOTEEVENTS-13038.txt', 'NOTEEVENTS-13040.txt', 'NOTEEVENTS-13069.txt', 'NOTEEVENTS-13078.txt', 'NOTEEVENTS-13084.txt', 'NOTEEVENTS-13136.txt', 'NOTEEVENTS-13151.txt', 'NOTEEVENTS-13153.txt', 'NOTEEVENTS-13161.txt', 'NOTEEVENTS-13168.txt', 'NOTEEVENTS-13175.txt', 'NOTEEVENTS-13186.txt', 'NOTEEVENTS-13188.txt', 'NOTEEVENTS-13190.txt', 'NOTEEVENTS-13193.txt', 'NOTEEVENTS-13207.txt', 'NOTEEVENTS-13216.txt', 'NOTEEVENTS-13236.txt', 'NOTEEVENTS-13251.txt', 'NOTEEVENTS-13252.txt', 'NOTEEVENTS-13260.txt', 'NOTEEVENTS-13265.txt', 'NOTEEVENTS-13274.txt', 'NOTEEVENTS-13294.txt', 'NOTEEVENTS-13301.txt', 'NOTEEVENTS-13319.txt', 'NOTEEVENTS-13326.txt', 'NOTEEVENTS-13335.txt', 'NOTEEVENTS-13347.txt', 'NOTEEVENTS-13351.txt', 'NOTEEVENTS-13355.txt', 'NOTEEVENTS-13384.txt', 'NOTEEVENTS-13408.txt', 'NOTEEVENTS-13412.txt', 'NOTEEVENTS-13430.txt', 'NOTEEVENTS-13431.txt', 'NOTEEVENTS-13438.txt', 'NOTEEVENTS-13445.txt', 'NOTEEVENTS-13455.txt', 'NOTEEVENTS-13457.txt', 'NOTEEVENTS-13458.txt', 'NOTEEVENTS-13495.txt', 'NOTEEVENTS-13507.txt', 'NOTEEVENTS-13514.txt', 'NOTEEVENTS-13526.txt', 'NOTEEVENTS-13536.txt', 'NOTEEVENTS-13541.txt', 'NOTEEVENTS-13545.txt', 'NOTEEVENTS-13548.txt', 'NOTEEVENTS-13549.txt', 'NOTEEVENTS-13552.txt', 'NOTEEVENTS-13558.txt', 'NOTEEVENTS-13559.txt', 'NOTEEVENTS-13566.txt', 'NOTEEVENTS-13575.txt', 'NOTEEVENTS-13584.txt', 'NOTEEVENTS-13585.txt', 'NOTEEVENTS-13590.txt', 'NOTEEVENTS-13592.txt', 'NOTEEVENTS-13599.txt', 'NOTEEVENTS-13600.txt', 'NOTEEVENTS-13602.txt', 'NOTEEVENTS-13610.txt', 'NOTEEVENTS-13625.txt', 'NOTEEVENTS-13627.txt', 'NOTEEVENTS-13632.txt', 'NOTEEVENTS-13640.txt', 'NOTEEVENTS-13646.txt', 'NOTEEVENTS-13657.txt', 'NOTEEVENTS-13660.txt', 'NOTEEVENTS-13671.txt', 'NOTEEVENTS-13675.txt', 'NOTEEVENTS-13684.txt', 'NOTEEVENTS-13686.txt', 'NOTEEVENTS-13687.txt', 'NOTEEVENTS-13693.txt', 'NOTEEVENTS-13695.txt', 'NOTEEVENTS-13703.txt', 'NOTEEVENTS-13706.txt', 'NOTEEVENTS-13715.txt', 'NOTEEVENTS-13720.txt', 'NOTEEVENTS-13728.txt', 'NOTEEVENTS-13739.txt', 'NOTEEVENTS-13745.txt', 'NOTEEVENTS-13748.txt', 'NOTEEVENTS-13759.txt', 'NOTEEVENTS-13763.txt', 'NOTEEVENTS-13768.txt', 'NOTEEVENTS-13787.txt', 'NOTEEVENTS-13790.txt', 'NOTEEVENTS-13796.txt', 'NOTEEVENTS-13826.txt', 'NOTEEVENTS-13835.txt', 'NOTEEVENTS-13843.txt', 'NOTEEVENTS-13847.txt', 'NOTEEVENTS-13849.txt', 'NOTEEVENTS-13852.txt', 'NOTEEVENTS-13856.txt', 'NOTEEVENTS-13859.txt', 'NOTEEVENTS-13866.txt', 'NOTEEVENTS-13868.txt', 'NOTEEVENTS-13882.txt', 'NOTEEVENTS-13888.txt', 'NOTEEVENTS-13890.txt', 'NOTEEVENTS-13906.txt', 'NOTEEVENTS-13919.txt', 'NOTEEVENTS-13921.txt', 'NOTEEVENTS-13924.txt', 'NOTEEVENTS-13931.txt', 'NOTEEVENTS-13943.txt', 'NOTEEVENTS-13946.txt', 'NOTEEVENTS-13957.txt', 'NOTEEVENTS-13964.txt', 'NOTEEVENTS-13965.txt', 'NOTEEVENTS-13966.txt', 'NOTEEVENTS-13976.txt', 'NOTEEVENTS-13990.txt', 'NOTEEVENTS-13993.txt', 'NOTEEVENTS-13995.txt']\n"
     ]
    }
   ],
   "source": [
    "# gets list of all file names in data folder\n",
    "path = \"/Users/dears/Desktop/school thing/UW/BIME 300/bime-300-project-01/data\"\n",
    "\n",
    "dir_list = os.listdir(path)\n",
    "print(dir_list)\n",
    "    "
   ]
  },
  {
   "cell_type": "code",
   "execution_count": 88,
   "metadata": {},
   "outputs": [
    {
     "name": "stdout",
     "output_type": "stream",
     "text": [
      "dict_keys(['NOTEEVENTS-13005.txt', 'NOTEEVENTS-13011.txt', 'NOTEEVENTS-13019.txt', 'NOTEEVENTS-13035.txt', 'NOTEEVENTS-13036.txt', 'NOTEEVENTS-13038.txt', 'NOTEEVENTS-13040.txt', 'NOTEEVENTS-13084.txt', 'NOTEEVENTS-13136.txt', 'NOTEEVENTS-13153.txt', 'NOTEEVENTS-13161.txt', 'NOTEEVENTS-13186.txt', 'NOTEEVENTS-13207.txt', 'NOTEEVENTS-13260.txt', 'NOTEEVENTS-13265.txt', 'NOTEEVENTS-13294.txt', 'NOTEEVENTS-13319.txt', 'NOTEEVENTS-13326.txt', 'NOTEEVENTS-13335.txt', 'NOTEEVENTS-13347.txt', 'NOTEEVENTS-13412.txt', 'NOTEEVENTS-13457.txt', 'NOTEEVENTS-13514.txt', 'NOTEEVENTS-13548.txt', 'NOTEEVENTS-13549.txt', 'NOTEEVENTS-13558.txt', 'NOTEEVENTS-13566.txt', 'NOTEEVENTS-13575.txt', 'NOTEEVENTS-13584.txt', 'NOTEEVENTS-13585.txt', 'NOTEEVENTS-13590.txt', 'NOTEEVENTS-13599.txt', 'NOTEEVENTS-13610.txt', 'NOTEEVENTS-13632.txt', 'NOTEEVENTS-13657.txt', 'NOTEEVENTS-13660.txt', 'NOTEEVENTS-13693.txt', 'NOTEEVENTS-13695.txt', 'NOTEEVENTS-13703.txt', 'NOTEEVENTS-13748.txt', 'NOTEEVENTS-13763.txt', 'NOTEEVENTS-13787.txt', 'NOTEEVENTS-13790.txt', 'NOTEEVENTS-13835.txt', 'NOTEEVENTS-13849.txt', 'NOTEEVENTS-13859.txt', 'NOTEEVENTS-13866.txt', 'NOTEEVENTS-13888.txt', 'NOTEEVENTS-13890.txt', 'NOTEEVENTS-13906.txt', 'NOTEEVENTS-13919.txt', 'NOTEEVENTS-13924.txt', 'NOTEEVENTS-13931.txt', 'NOTEEVENTS-13943.txt', 'NOTEEVENTS-13990.txt'])\n",
      "55\n",
      "<class 'str'>\n",
      "131905\n"
     ]
    }
   ],
   "source": [
    "# function for 1 set of notes\n",
    "\n",
    "# go through dirlist, for every file, make a key value pair in a dict- key is file name, value is \n",
    "# 1 string of everything in that file\n",
    "os.chdir(\"/Users/dears/Desktop/school thing/UW/BIME 300/bime-300-project-01/data\")\n",
    "\n",
    "def func_for_now(list_from_before):\n",
    "    files_and_strings = {}\n",
    "    for file in list_from_before:\n",
    "        curr_file = open(file,\"r\")\n",
    "        file_string = curr_file.read()\n",
    "        files_and_strings[file] = file_string\n",
    "    return files_and_strings\n",
    "\n",
    "\n",
    "# testing if function works (it does!)\n",
    "a = func_for_now(dir_list)\n",
    "b = a.keys()\n",
    "\n",
    "first_value = list(a.values())[0]\n",
    "#print(b)\n",
    "# print(first_value)\n",
    "\n",
    "\n",
    "\n",
    "# iterate through entire dict, find key value pairs with \"discharge diagnosis\", add those files to\n",
    "# new_dict which has 55 files\n",
    "def find_file_with_dis(whole_dict):\n",
    "    new_dict = {}\n",
    "    for i in whole_dict:\n",
    "        if \"Discharge Diagnosis\" in whole_dict[i]:\n",
    "            new_dict[i] = whole_dict[i]\n",
    "    return new_dict\n",
    "\n",
    "test = find_file_with_dis(a)\n",
    "print(test.keys())\n",
    "print(len(test))\n",
    "\n",
    "#first_val = list(test.values())[0]\n",
    "#print(first_val)\n",
    "\n",
    "\n",
    "def find_diagnoses(filtered_dict):\n",
    "    dict_with_diagnoses = {}\n",
    "    start_string = \"Discharge Diagnosis: \\n\"\n",
    "    end_string = \"\\nDischarge\"\n",
    "    l = []\n",
    "    for i in filtered_dict:\n",
    "        whole_string = filtered_dict[i]\n",
    "        #idx1 = whole_string.find(start_string)\n",
    "        #idx2 = whole_string.find(end_string)\n",
    "        #res = whole_string[idx1 + len(sub1) + 1: idx2]\n",
    "        # result = re.search(\"Discharge Diagnosis: \\n(.+?)\\nDischarge\", whole_string).group(1)\n",
    "        #dict_with_diagnoses[i] = res\n",
    "    #return dict_with_diagnoses\n",
    "    return whole_string\n",
    "\n",
    "\n",
    "c = find_diagnoses(test)\n",
    "print(type(c))\n",
    "# print(c.keys())\n",
    "print(len(c))\n"
   ]
  },
  {
   "cell_type": "code",
   "execution_count": 89,
   "metadata": {},
   "outputs": [],
   "source": [
    "\n",
    "\n",
    "def normalize_token(token: str) -> str:\n",
    "    \"\"\"\n",
    "    Returns a \"normalized\" version of the given token (str). A normalized\n",
    "    token is one where all letters are converted to lowercase and all\n",
    "    non-letters (e.g., punctuation) are removed.\n",
    "    \"\"\"\n",
    "    return re.sub(r'\\W+', '', token.lower())\n",
    "\n",
    "\n",
    "def one_doc(path: str) -> None:\n",
    "    '''\n",
    "    this function returns 1 set of notes \n",
    "    '''\n",
    "    path = path\n",
    "    words = {}\n",
    "\n",
    "    with open(path) as f:\n",
    "        lines = f.readlines()\n",
    "        for line in lines:\n",
    "            all_words = line.split()\n",
    "            for word in all_words:\n",
    "                word = normalize_token(word)\n",
    "    return all_words"
   ]
  }
 ],
 "metadata": {
  "kernelspec": {
   "display_name": "cse163",
   "language": "python",
   "name": "python3"
  },
  "language_info": {
   "codemirror_mode": {
    "name": "ipython",
    "version": 3
   },
   "file_extension": ".py",
   "mimetype": "text/x-python",
   "name": "python",
   "nbconvert_exporter": "python",
   "pygments_lexer": "ipython3",
   "version": "3.9.16"
  },
  "orig_nbformat": 4
 },
 "nbformat": 4,
 "nbformat_minor": 2
}
